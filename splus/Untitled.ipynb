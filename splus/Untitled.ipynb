{
 "cells": [
  {
   "cell_type": "code",
   "execution_count": 15,
   "metadata": {},
   "outputs": [],
   "source": [
    "%matplotlib notebook\n",
    "import matplotlib\n",
    "from matplotlib import pyplot as plt\n",
    "import pandas as pd\n"
   ]
  },
  {
   "cell_type": "code",
   "execution_count": 17,
   "metadata": {},
   "outputs": [
    {
     "name": "stdout",
     "output_type": "stream",
     "text": [
      "134 ['ID', 'RA', 'Dec', 'X', 'Y', 'ISOarea', 's2nDet', 'PhotoFlag', 'FWHM', 'MUMAX', 'A', 'B', 'THETA', 'FlRadDet', 'KrRadDet', 'uJAVA_auto', 'euJAVA_auto', 's2n_uJAVA_auto', 'uJAVA_petro', 'euJAVA_petro', 's2n_uJAVA_petro', 'uJAVA_aper', 'euJAVA_aper', 's2n_uJAVA_aper', 'F378_auto', 'eF378_auto', 's2n_F378_auto', 'F378_petro', 'eF378_petro', 's2n_F378_petro', 'F378_aper', 'eF378_aper', 's2n_F378_aper', 'F395_auto', 'eF395_auto', 's2n_F395_auto', 'F395_petro', 'eF395_petro', 's2n_F395_petro', 'F395_aper', 'eF395_aper', 's2n_F395_aper', 'F410_auto', 'eF410_auto', 's2n_F410_auto', 'F410_petro', 'eF410_petro', 's2n_F410_petro', 'F410_aper', 'eF410_aper', 's2n_F410_aper', 'F430_auto', 'eF430_auto', 's2n_F430_auto', 'F430_petro', 'eF430_petro', 's2n_F430_petro', 'F430_aper', 'eF430_aper', 's2n_F430_aper', 'g_auto', 'eg_auto', 's2n_g_auto', 'g_petro', 'eg_petro', 's2n_g_petro', 'g_aper', 'eg_aper', 's2n_g_aper', 'F515_auto', 'eF515_auto', 's2n_F515_auto', 'F515_petro', 'eF515_petro', 's2n_F515_petro', 'F515_aper', 'eF515_aper', 's2n_F515_aper', 'r_auto', 'er_auto', 's2n_r_auto', 'r_petro', 'er_petro', 's2n_r_petro', 'r_aper', 'er_aper', 's2n_r_aper', 'F660_auto', 'eF660_auto', 's2n_F660_auto', 'F660_petro', 'eF660_petro', 's2n_F660_petro', 'F660_aper', 'eF660_aper', 's2n_F660_aper', 'i_auto', 'ei_auto', 's2n_i_auto', 'i_petro', 'ei_petro', 's2n_i_petro', 'i_aper', 'ei_aper', 's2n_i_aper', 'F861_auto', 'eF861_auto', 's2n_F861_auto', 'F861_petro', 'eF861_petro', 's2n_F861_petro', 'F861_aper', 'eF861_aper', 's2n_F861_aper', 'z_auto', 'ez_auto', 's2n_z_auto', 'z_petro', 'ez_petro', 's2n_z_petro', 'z_aper', 'ez_aper', 's2n_z_aper', 'zb', 'zb_Min', 'zb_Max', 'Tb', 'Odds', 'Chi2', 'M_B', 'Stell_Mass', 'CLASS', 'PROB_GAL', 'PROB_STAR']\n"
     ]
    }
   ],
   "source": [
    "classespath = '/home/frodo/temp/raw-data/sloan_splus_matches.csv'\n",
    "# catalogpath = '/home/frodo/temp/raw-data/catalog_sample.cat'\n",
    "catalogpath = '/home/frodo/temp/raw-data/catalogs/SPLUS_STRIPE82-0003_Photometry.cat'\n",
    "headerstr = 'ID  RA  Dec  X  Y  ISOarea  s2nDet  PhotoFlag  FWHM  MUMAX  A  B  THETA  FlRadDet  KrRadDet  uJAVA_auto  euJAVA_auto  s2n_uJAVA_auto  uJAVA_petro  euJAVA_petro  s2n_uJAVA_petro  uJAVA_aper  euJAVA_aper  s2n_uJAVA_aper  F378_auto  eF378_auto  s2n_F378_auto  F378_petro  eF378_petro  s2n_F378_petro  F378_aper  eF378_aper  s2n_F378_aper  F395_auto  eF395_auto  s2n_F395_auto  F395_petro  eF395_petro  s2n_F395_petro  F395_aper  eF395_aper  s2n_F395_aper  F410_auto  eF410_auto  s2n_F410_auto  F410_petro  eF410_petro  s2n_F410_petro  F410_aper  eF410_aper  s2n_F410_aper  F430_auto  eF430_auto  s2n_F430_auto  F430_petro  eF430_petro  s2n_F430_petro  F430_aper  eF430_aper  s2n_F430_aper  g_auto  eg_auto  s2n_g_auto  g_petro  eg_petro  s2n_g_petro  g_aper  eg_aper  s2n_g_aper  F515_auto  eF515_auto  s2n_F515_auto  F515_petro  eF515_petro  s2n_F515_petro  F515_aper  eF515_aper  s2n_F515_aper  r_auto  er_auto  s2n_r_auto  r_petro  er_petro  s2n_r_petro  r_aper  er_aper  s2n_r_aper  F660_auto  eF660_auto  s2n_F660_auto  F660_petro  eF660_petro  s2n_F660_petro  F660_aper  eF660_aper  s2n_F660_aper  i_auto  ei_auto  s2n_i_auto  i_petro  ei_petro  s2n_i_petro  i_aper  ei_aper  s2n_i_aper  F861_auto  eF861_auto  s2n_F861_auto  F861_petro  eF861_petro  s2n_F861_petro  F861_aper  eF861_aper  s2n_F861_aper  z_auto  ez_auto  s2n_z_auto  z_petro  ez_petro  s2n_z_petro  z_aper  ez_aper  s2n_z_aper  zb  zb_Min  zb_Max  Tb  Odds  Chi2  M_B  Stell_Mass  CLASS  PROB_GAL  PROB_STAR'\n",
    "cols = headerstr.split('  ')\n",
    "print(len(cols), cols)"
   ]
  },
  {
   "cell_type": "code",
   "execution_count": 18,
   "metadata": {},
   "outputs": [],
   "source": [
    "df = pd.read_csv(catalogpath, sep='\\s+', header=None, names=cols, skiprows=191, engine='python')\n",
    "classes = pd.read_csv(classespath)"
   ]
  },
  {
   "cell_type": "code",
   "execution_count": 19,
   "metadata": {},
   "outputs": [
    {
     "name": "stdout",
     "output_type": "stream",
     "text": [
      "(10471, 134)                  RA           Dec             X             Y       ISOarea  \\\n",
      "count  10471.000000  10471.000000  10471.000000  10471.000000  10471.000000   \n",
      "mean       1.328280     -0.666693   6083.305659   5718.409170    132.707478   \n",
      "std        0.410897      0.407275   2689.419555   2665.951612    841.959298   \n",
      "min        0.628400     -1.380000   1342.000000   1048.691000      0.000000   \n",
      "25%        0.972550     -1.017950   3760.183500   3419.253500     24.000000   \n",
      "50%        1.328000     -0.669600   6085.310000   5699.312000     38.000000   \n",
      "75%        1.683200     -0.316800   8411.622500   8008.631000     77.000000   \n",
      "max        2.052700      0.046300  10664.588000  10385.439000  47443.000000   \n",
      "\n",
      "             s2nDet     PhotoFlag          FWHM         MUMAX             A  \\\n",
      "count  10471.000000  10471.000000  10471.000000  10471.000000  10471.000000   \n",
      "mean     138.453991      0.592303      5.620976     16.881822      2.746092   \n",
      "std      321.966580      1.145922      8.632615      1.817400      3.220624   \n",
      "min        0.000000      0.000000      0.000000      9.270000      1.000000   \n",
      "25%       24.625000      0.000000      3.050000     16.230000      1.890000   \n",
      "50%       41.070000      0.000000      4.130000     17.500000      2.190000   \n",
      "75%       97.000000      0.000000      6.000000     18.170000      2.730000   \n",
      "max     5036.210000      7.000000    287.870000     20.160000    139.840000   \n",
      "\n",
      "           ...             zb_Min        zb_Max            Tb          Odds  \\\n",
      "count      ...       10471.000000  10471.000000  10471.000000  10471.000000   \n",
      "mean       ...           0.234189      0.386547      8.624469      0.406507   \n",
      "std        ...           0.157788      0.207368      3.595070      0.271284   \n",
      "min        ...           0.002000      0.009000      1.010000      0.005699   \n",
      "25%        ...           0.116000      0.216000      6.140000      0.175837   \n",
      "50%        ...           0.200000      0.367000      7.680000      0.336904   \n",
      "75%        ...           0.297000      0.521000     12.190000      0.592256   \n",
      "max        ...           0.872000      0.982000     15.990000      0.999941   \n",
      "\n",
      "               Chi2           M_B    Stell_Mass         CLASS      PROB_GAL  \\\n",
      "count  10471.000000  10471.000000  10471.000000  10471.000000  10471.000000   \n",
      "mean      19.321328      0.332899    -20.596641      4.436253      0.487355   \n",
      "std        2.127322      0.226370      2.198464      1.541691      0.446596   \n",
      "min        7.480000      0.005000    -35.223300      0.000000      0.000000   \n",
      "25%       18.680000      0.136000    -21.188100      3.000000      0.000000   \n",
      "50%       19.950000      0.303000    -20.470900      3.000000      0.580000   \n",
      "75%       20.610000      0.515500    -19.564800      6.000000      0.960000   \n",
      "max       99.000000      1.000000     56.213400      6.000000      1.000000   \n",
      "\n",
      "          PROB_STAR  \n",
      "count  10471.000000  \n",
      "mean       0.512645  \n",
      "std        0.446596  \n",
      "min        0.000000  \n",
      "25%        0.040000  \n",
      "50%        0.420000  \n",
      "75%        1.000000  \n",
      "max        1.000000  \n",
      "\n",
      "[8 rows x 133 columns]\n"
     ]
    }
   ],
   "source": [
    "print(df.shape, df.describe())"
   ]
  },
  {
   "cell_type": "code",
   "execution_count": 9,
   "metadata": {},
   "outputs": [],
   "source": [
    "aperture = 'auto' # I can also assume petro or aper\n",
    "#\n",
    "# Resulting bands\n",
    "# Broad bands: u, g, r, i, z\n",
    "# Narrow bands: F378, F395, F410, F430, F515, F660, F861\n",
    "#\n",
    "# Names of the columns are the bands names followed by underscore and the\n",
    "# aperture. e.g., g: g_auto. Exception is made for u, which is uJAVA_auto."
   ]
  },
  {
   "cell_type": "code",
   "execution_count": 10,
   "metadata": {},
   "outputs": [
    {
     "data": {
      "text/plain": [
       "['uJAVA_auto', 'g_auto', 'r_auto', 'i_auto', 'z_auto']"
      ]
     },
     "execution_count": 10,
     "metadata": {},
     "output_type": "execute_result"
    }
   ],
   "source": [
    "broadbands = [ x + '_' + aperture for  x in 'uJAVA, g, r, i, z'.split(', ') ]\n",
    "narrowbands = [ y + '_' + aperture for  y in 'F378, F395, F410, F430, F515, F660, F861'.split(', ') ]\n",
    "broadbands"
   ]
  },
  {
   "cell_type": "code",
   "execution_count": 20,
   "metadata": {},
   "outputs": [],
   "source": [
    "features_broad = df[broadbands]\n",
    "features_narrow = df[narrowbands]"
   ]
  },
  {
   "cell_type": "code",
   "execution_count": null,
   "metadata": {},
   "outputs": [],
   "source": []
  }
 ],
 "metadata": {
  "kernelspec": {
   "display_name": "Python 3",
   "language": "python",
   "name": "python3"
  },
  "language_info": {
   "codemirror_mode": {
    "name": "ipython",
    "version": 3
   },
   "file_extension": ".py",
   "mimetype": "text/x-python",
   "name": "python",
   "nbconvert_exporter": "python",
   "pygments_lexer": "ipython3",
   "version": "3.7.1"
  }
 },
 "nbformat": 4,
 "nbformat_minor": 2
}
